{
 "cells": [
  {
   "cell_type": "code",
   "execution_count": 1,
   "id": "90557e47",
   "metadata": {},
   "outputs": [],
   "source": [
    "import random\n",
    "import numpy as np\n",
    "\n",
    "# 设置 Python 内置 random 库的全局随机种子\n",
    "random.seed(24)\n",
    "\n",
    "# 设置 Numpy 库的全局随机种子\n",
    "np.random.seed(24)"
   ]
  },
  {
   "cell_type": "code",
   "execution_count": 2,
   "id": "599ed199",
   "metadata": {},
   "outputs": [],
   "source": [
    "import pandas as pd\n",
    "import numpy as np\n",
    "import matplotlib.pyplot as plt\n",
    "import re\n",
    "\n",
    "# from sksurv.linear_model import CoxPHSurvivalAnalysis, CoxnetSurvivalAnalysis\n",
    "from sksurv.preprocessing import OneHotEncoder\n",
    "# from sklearn.preprocessing import StandardScaler"
   ]
  },
  {
   "cell_type": "markdown",
   "id": "08b022b5",
   "metadata": {},
   "source": [
    "# 特征筛选"
   ]
  },
  {
   "cell_type": "markdown",
   "id": "43027f62",
   "metadata": {},
   "source": [
    "## 特征筛选函数封装"
   ]
  },
  {
   "cell_type": "markdown",
   "id": "f8a34680",
   "metadata": {},
   "source": [
    "### 基于RSF的特征重要性"
   ]
  },
  {
   "cell_type": "code",
   "execution_count": 5,
   "id": "2254febc",
   "metadata": {},
   "outputs": [],
   "source": [
    "#基于RSF特征重要性\n",
    "\n",
    "import pandas as pd\n",
    "from sksurv.ensemble import RandomSurvivalForest\n",
    "from sksurv.util import Surv\n",
    "from sklearn.inspection import permutation_importance\n",
    "\n",
    "def rsf_feature_importances(rsf, X, y):\n",
    "    rsf.fit(X, y)\n",
    "    r = permutation_importance(rsf, X, y, n_repeats=30, random_state=24)\n",
    "    return r.importances_mean\n",
    "\n",
    "def select_features_survival_analysis(data, n_features_to_select=5):\n",
    "    # Separate features and target variables\n",
    "    X = data.drop(columns=['time', 'event'])\n",
    "    y_df = data[['time', 'event']]\n",
    "    \n",
    "    # Convert target variable DataFrame to structured array\n",
    "    y = Surv.from_dataframe('event', 'time', y_df)\n",
    "    \n",
    "    # Initialize Random Survival Forest model\n",
    "    rsf = RandomSurvivalForest(n_estimators=100, min_samples_split=10, random_state=24)\n",
    "\n",
    "    # 获取特征重要性并排序\n",
    "    feature_importances = rsf_feature_importances(rsf, X, y)\n",
    "    important_indices = np.where(feature_importances > 0)[0]  # 筛选出重要性大于0的特征索引\n",
    "    sorted_indices = important_indices[feature_importances[important_indices].argsort()[::-1]]  # 从高到低排序特征索引\n",
    "\n",
    "    # 基于重要性大于0的特征数量，选择特征\n",
    "    if len(sorted_indices) >= 10:\n",
    "        selected_features = X.columns[sorted_indices][:10].tolist()  # 选择前10个特征\n",
    "    elif len(sorted_indices) >= 5:\n",
    "        selected_features = X.columns[sorted_indices][:5].tolist()   # 选择前5个特征\n",
    "    else:\n",
    "        selected_features = X.columns[sorted_indices].tolist()       # 选择所有重要性大于0的特征\n",
    "\n",
    "    return selected_features  # 以列表形式返回选择的特征"
   ]
  },
  {
   "cell_type": "markdown",
   "id": "9ce2ab51",
   "metadata": {},
   "source": [
    "### 梯度提升筛选"
   ]
  },
  {
   "cell_type": "code",
   "execution_count": 6,
   "id": "3233907e",
   "metadata": {},
   "outputs": [],
   "source": [
    "from sksurv.ensemble import GradientBoostingSurvivalAnalysis\n",
    "from sksurv.util import Surv\n",
    "import pandas as pd\n",
    "\n",
    "def gradient_boosting_feature_selection(data):\n",
    "    # 检查数据是否包含`time`和`event`列\n",
    "    if 'time' not in data.columns or 'event' not in data.columns:\n",
    "        raise ValueError(\"Input DataFrame must contain 'time' and 'event' columns.\")\n",
    "    \n",
    "    # 分离特征和目标变量\n",
    "    X = data.drop(columns=['time', 'event'])\n",
    "    y_df = data[['time', 'event']]\n",
    "    \n",
    "    # 将目标变量DataFrame转换为结构化数组\n",
    "    y = Surv.from_dataframe('event', 'time', y_df)\n",
    "    \n",
    "    # 初始化梯度提升生存分析模型\n",
    "    gb_model = GradientBoostingSurvivalAnalysis(loss='squared',random_state=24)\n",
    "\n",
    "    # 训练模型\n",
    "    gb_model.fit(X, y)\n",
    "\n",
    "    # 获取特征重要性并排序\n",
    "    feature_importances = gb_model.feature_importances_\n",
    "    important_indices = np.where(feature_importances > 0)[0]  # 筛选出重要性大于0的特征索引\n",
    "    sorted_indices = important_indices[feature_importances[important_indices].argsort()[::-1]]  # 从高到低排序特征索引\n",
    "\n",
    "    # 基于重要性大于0的特征数量，选择特征\n",
    "    if len(sorted_indices) >= 10:\n",
    "        selected_features = X.columns[sorted_indices][:10].tolist()  # 选择前10个特征\n",
    "    elif len(sorted_indices) >= 5:\n",
    "        selected_features = X.columns[sorted_indices][:5].tolist()   # 选择前5个特征\n",
    "    else:\n",
    "        selected_features = X.columns[sorted_indices].tolist()       # 选择所有重要性大于0的特征\n",
    "\n",
    "    return selected_features  # 以列表形式返回选择的特征"
   ]
  },
  {
   "cell_type": "markdown",
   "id": "bb6753c4",
   "metadata": {},
   "source": [
    "### 逐步前向选择CI"
   ]
  },
  {
   "cell_type": "code",
   "execution_count": 7,
   "id": "7aad693e",
   "metadata": {},
   "outputs": [],
   "source": [
    "#使用随机生存树作为基础模型\n",
    "\n",
    "from sksurv.metrics import concordance_index_censored\n",
    "from sksurv.ensemble import RandomSurvivalForest\n",
    "\n",
    "def calculate_ci_for_feature_set(X, y, rsf, features):\n",
    "    temp_X = X[features].to_numpy()\n",
    "    rsf.fit(temp_X, y)\n",
    "    ci = concordance_index_censored(y['event'], y['time'], rsf.predict(temp_X))[0]\n",
    "    return ci\n",
    "\n",
    "def stepwise_ci_selection_rsf(data):\n",
    "    y = data[['event', 'time']].to_records(index=False)\n",
    "    X = data.drop(columns=['time', 'event'])\n",
    "    \n",
    "    rsf = RandomSurvivalForest(n_estimators=100, min_samples_split=10, random_state=24)\n",
    "    \n",
    "    selected_features = list(X.columns)\n",
    "    best_ci = 0\n",
    "    forward_selected_features = []\n",
    "    ci_changes = []\n",
    "\n",
    "    while selected_features:\n",
    "        ci_with_features = []\n",
    "\n",
    "        for feature in selected_features:\n",
    "            temp_features = forward_selected_features + [feature]\n",
    "            ci = calculate_ci_for_feature_set(X, y, rsf, temp_features)\n",
    "            ci_with_features.append((ci, feature))\n",
    "\n",
    "        ci_with_features.sort(key=lambda x: x[0], reverse=True)\n",
    "        best_ci_current, best_feature = ci_with_features[0]\n",
    "\n",
    "        if best_ci_current > best_ci:\n",
    "            best_ci = best_ci_current\n",
    "            forward_selected_features.append(best_feature)\n",
    "            selected_features.remove(best_feature)\n",
    "            ci_changes.append((best_ci, best_feature))\n",
    "        else:\n",
    "            break\n",
    "\n",
    "#     return selected_features\n",
    "    return forward_selected_features"
   ]
  },
  {
   "cell_type": "markdown",
   "id": "f16851e6",
   "metadata": {},
   "source": [
    "## 五折特征筛选"
   ]
  },
  {
   "cell_type": "code",
   "execution_count": 9,
   "id": "7cd59fbf",
   "metadata": {},
   "outputs": [],
   "source": [
    "# 指定未经过smote的五折pkl文件的保存路径\n",
    "save_path0 = \"./未经过smote的五折pkl文件\""
   ]
  },
  {
   "cell_type": "code",
   "execution_count": 10,
   "id": "567b55b2",
   "metadata": {},
   "outputs": [
    {
     "name": "stdout",
     "output_type": "stream",
     "text": [
      "开始多进程特征选择...\n"
     ]
    },
    {
     "name": "stderr",
     "output_type": "stream",
     "text": [
      "处理进度:  20%|██        | 1/5 [27:03<1:48:12, 1623.24s/it]"
     ]
    },
    {
     "name": "stdout",
     "output_type": "stream",
     "text": [
      "\n",
      "第 1 折选出的特征: {'Chemotherapy_Received', 'Histology_Squamous_Cell_Carcinoma', 'Primary_Site_Surgery_None', 'Differentiation', 'Radiotherapy_Received', 'Tumor_Stage', 'Age'}\n",
      "第 1 折特征选择完成，耗时 1623.24 秒。\n"
     ]
    },
    {
     "name": "stderr",
     "output_type": "stream",
     "text": [
      "处理进度:  40%|████      | 2/5 [27:44<34:38, 692.70s/it]   "
     ]
    },
    {
     "name": "stdout",
     "output_type": "stream",
     "text": [
      "\n",
      "第 5 折选出的特征: {'Chemotherapy_Received', 'Histology_Squamous_Cell_Carcinoma', 'Differentiation', 'Primary_Site_Surgery_Resection', 'Radiotherapy_Received', 'Tumor_Stage', 'Age'}\n",
      "第 5 折特征选择完成，耗时 1664.56 秒。\n"
     ]
    },
    {
     "name": "stderr",
     "output_type": "stream",
     "text": [
      "处理进度:  60%|██████    | 3/5 [28:08<12:54, 387.36s/it]"
     ]
    },
    {
     "name": "stdout",
     "output_type": "stream",
     "text": [
      "\n",
      "第 3 折选出的特征: {'Chemotherapy_Received', 'Histology_Squamous_Cell_Carcinoma', 'Primary_Site_Surgery_None', 'Differentiation', 'Radiotherapy_Received', 'Tumor_Stage', 'Age'}\n",
      "第 3 折特征选择完成，耗时 1688.57 秒。\n"
     ]
    },
    {
     "name": "stderr",
     "output_type": "stream",
     "text": [
      "处理进度:  80%|████████  | 4/5 [28:21<03:59, 239.72s/it]"
     ]
    },
    {
     "name": "stdout",
     "output_type": "stream",
     "text": [
      "\n",
      "第 2 折选出的特征: {'Lymph_Node_Surgery_Extent_Removed', 'Chemotherapy_Received', 'Primary_Site_Surgery_None', 'Differentiation', 'Radiotherapy_Received', 'Tumor_Stage', 'Age'}\n",
      "第 2 折特征选择完成，耗时 1701.95 秒。\n"
     ]
    },
    {
     "name": "stderr",
     "output_type": "stream",
     "text": [
      "处理进度: 100%|██████████| 5/5 [28:34<00:00, 342.90s/it]"
     ]
    },
    {
     "name": "stdout",
     "output_type": "stream",
     "text": [
      "\n",
      "第 4 折选出的特征: {'Lymph_Node_Surgery_Extent_Removed', 'Chemotherapy_Received', 'Histology_Squamous_Cell_Carcinoma', 'Primary_Site_Surgery_None', 'Differentiation', 'Radiotherapy_Received', 'Tumor_Stage', 'Age'}\n",
      "第 4 折特征选择完成，耗时 1714.49 秒。\n",
      "\n",
      "所有折的特征选择总耗时: 1714.71 秒。\n",
      "基于交集的最终选出的特征: ['Age', 'Chemotherapy_Received', 'Differentiation', 'Radiotherapy_Received', 'Tumor_Stage']\n"
     ]
    },
    {
     "name": "stderr",
     "output_type": "stream",
     "text": [
      "\n"
     ]
    }
   ],
   "source": [
    "import os\n",
    "import time\n",
    "import pickle\n",
    "from concurrent.futures import ProcessPoolExecutor, as_completed\n",
    "from tqdm import tqdm\n",
    "\n",
    "def process_fold(fold_number):\n",
    "    \"\"\"处理单个折，执行三种特征选择方法并取交集\"\"\"\n",
    "    train_file_path = os.path.join(save_path0, f'train_fold_{fold_number}.pkl')#主要不同的地方是此处特征筛选所使用的文件不同，使用的是没有经过SMOTE的文件\n",
    "    fold_start_time = time.time()\n",
    "\n",
    "    # 加载训练数据\n",
    "    with open(train_file_path, 'rb') as f:\n",
    "        train_data = pickle.load(f)\n",
    "\n",
    "    # 执行三种特征选择方法\n",
    "    features_survival = select_features_survival_analysis(train_data)\n",
    "    features_gb = gradient_boosting_feature_selection(train_data)\n",
    "    features_rsf_stepwise = stepwise_ci_selection_rsf(train_data)\n",
    "\n",
    "    # 求交集\n",
    "    selected_features = set(features_survival).intersection(features_gb).intersection(features_rsf_stepwise)\n",
    "\n",
    "    fold_time = time.time() - fold_start_time\n",
    "    return fold_number, selected_features, fold_time\n",
    "\n",
    "\n",
    "if __name__ == '__main__':\n",
    "    features_per_fold = []\n",
    "    fold_times = []\n",
    "    total_start_time = time.time()\n",
    "\n",
    "    print(\"开始多进程特征选择...\")\n",
    "\n",
    "    # 启动多进程执行，每折任务一个进程，总共 5 折，最多 15 核\n",
    "    with ProcessPoolExecutor(max_workers=15) as executor:\n",
    "        futures = {executor.submit(process_fold, i): i for i in range(1, 6)}\n",
    "\n",
    "        # 使用 tqdm 显示进度条\n",
    "        for future in tqdm(as_completed(futures), total=5, desc=\"处理进度\"):\n",
    "            fold_number, selected_features, fold_time = future.result()\n",
    "            features_per_fold.append(selected_features)\n",
    "            fold_times.append(fold_time)\n",
    "\n",
    "            print(f\"\\n第 {fold_number} 折选出的特征: {selected_features}\")\n",
    "            print(f\"第 {fold_number} 折特征选择完成，耗时 {fold_time:.2f} 秒。\")\n",
    "\n",
    "    # 所有折选出的特征取交集\n",
    "    final_selected_features = set.intersection(*features_per_fold)\n",
    "    final_selected_features = sorted(list(final_selected_features))\n",
    "\n",
    "    total_time = time.time() - total_start_time\n",
    "    print(f\"\\n所有折的特征选择总耗时: {total_time:.2f} 秒。\")\n",
    "    print(\"基于交集的最终选出的特征:\", final_selected_features)"
   ]
  },
  {
   "cell_type": "markdown",
   "id": "3daf005e",
   "metadata": {},
   "source": [
    "基于交集的最终选出的特征: ['Chemotherapy_Received', 'Tumor_Stage', 'Radiotherapy_Received', 'Primary_Site_Surgery_Resection', 'Histology_Squamous_Cell_Carcinoma', 'Age']\n"
   ]
  },
  {
   "cell_type": "markdown",
   "id": "14234aa6",
   "metadata": {},
   "source": [
    "# 模型训练"
   ]
  },
  {
   "cell_type": "code",
   "execution_count": null,
   "id": "39dad090",
   "metadata": {},
   "outputs": [],
   "source": [
    "# final_selected_features=['Histology_Squamous_Cell_Carcinoma',\n",
    "#  'Radiotherapy_Received',\n",
    "#  'Tumor_Stage',\n",
    "#  'Chemotherapy_Received',\n",
    "#  'Primary_Site_Surgery_Resection',\n",
    "#  'Age']"
   ]
  },
  {
   "cell_type": "code",
   "execution_count": 11,
   "id": "bffd3ea0",
   "metadata": {},
   "outputs": [
    {
     "data": {
      "text/plain": [
       "['Age',\n",
       " 'Chemotherapy_Received',\n",
       " 'Differentiation',\n",
       " 'Radiotherapy_Received',\n",
       " 'Tumor_Stage']"
      ]
     },
     "execution_count": 11,
     "metadata": {},
     "output_type": "execute_result"
    }
   ],
   "source": [
    "# 更新数据\n",
    "FS1=final_selected_features\n",
    "FS1"
   ]
  },
  {
   "cell_type": "markdown",
   "id": "1b6365e6",
   "metadata": {},
   "source": [
    "## 交集训练"
   ]
  },
  {
   "cell_type": "code",
   "execution_count": 12,
   "id": "35e20b4c",
   "metadata": {},
   "outputs": [
    {
     "data": {
      "text/plain": [
       "'./未经过smote的五折pkl文件'"
      ]
     },
     "execution_count": 12,
     "metadata": {},
     "output_type": "execute_result"
    }
   ],
   "source": [
    "save_path0"
   ]
  },
  {
   "cell_type": "code",
   "execution_count": 13,
   "id": "004991f0",
   "metadata": {},
   "outputs": [
    {
     "name": "stderr",
     "output_type": "stream",
     "text": [
      "Processing folds: 100%|██████████| 5/5 [17:21<00:00, 208.35s/it]"
     ]
    },
    {
     "name": "stdout",
     "output_type": "stream",
     "text": [
      "Average C-Index:\n",
      "   Model  IPCW C-Index\n",
      "0  CoxPH      0.789444\n",
      "1  CoxTV      0.789444\n",
      "2   GBSA      0.824279\n",
      "3    RSF      0.821825\n",
      "4     ST      0.816774\n",
      "Average IBS:\n",
      "   Model       IBS\n",
      "0  CoxPH  0.123386\n",
      "1  CoxTV  0.221851\n",
      "2   GBSA  0.115728\n",
      "3    RSF  0.116145\n",
      "4     ST  0.117708\n",
      "Total time taken: 1041.7610507011414 seconds\n"
     ]
    },
    {
     "name": "stderr",
     "output_type": "stream",
     "text": [
      "\n"
     ]
    }
   ],
   "source": [
    "import os\n",
    "import numpy as np\n",
    "import pandas as pd\n",
    "import pickle\n",
    "from lifelines import CoxTimeVaryingFitter, CoxPHFitter\n",
    "from lifelines.utils import to_episodic_format\n",
    "from sksurv.tree import SurvivalTree\n",
    "from sksurv.ensemble import RandomSurvivalForest\n",
    "from sksurv.ensemble import GradientBoostingSurvivalAnalysis\n",
    "from sksurv.metrics import concordance_index_ipcw, integrated_brier_score\n",
    "from tqdm import tqdm\n",
    "import time\n",
    "\n",
    "start = time.time()\n",
    "\n",
    "\n",
    "# 自定义函数检查并处理缺失值\n",
    "def check_and_clean_data(data, required_columns):\n",
    "    for col in required_columns:\n",
    "        if col not in data.columns:\n",
    "            raise ValueError(f\"Missing required column: {col}\")\n",
    "    missing_count = data[required_columns].isnull().sum().sum()\n",
    "    if missing_count > 0:\n",
    "        print(f\"Warning: Detected {missing_count} missing values. Dropping affected rows.\")\n",
    "        data = data.dropna(subset=required_columns)\n",
    "    return data\n",
    "\n",
    "#自定义函数求CoxTV模型的生存概率\n",
    "def calculate_survival_probabilities_coxtv(risk_scores, base_hazard, times):\n",
    "    \"\"\"\n",
    "    根据 CoxTimeVaryingFitter 的风险分数和基准风险计算生存概率。\n",
    "    将生存概率矩阵限制为指定的时间点。\n",
    "    \"\"\"\n",
    "    # 对基准累积风险进行插值，确保与 times 对齐\n",
    "    base_hazard_interp = np.interp(times, np.arange(len(base_hazard)), base_hazard)\n",
    "    \n",
    "    survival_probs = []\n",
    "    for score in risk_scores:\n",
    "        # 使用插值后的基准累积风险计算生存概率\n",
    "        S_t = np.exp(-base_hazard_interp * np.exp(score))\n",
    "        survival_probs.append(S_t)\n",
    "    return np.array(survival_probs)\n",
    "\n",
    "\n",
    "\n",
    "# 初始化模型\n",
    "CoxTV = CoxTimeVaryingFitter()\n",
    "CoxPH = CoxPHFitter()\n",
    "ST = SurvivalTree(random_state=24)\n",
    "RSF = RandomSurvivalForest(random_state=24)\n",
    "GBSA = GradientBoostingSurvivalAnalysis(random_state=24)\n",
    "\n",
    "\n",
    "\n",
    "# 初始化列表用于保存每一折的 CI 和 IBS 评分\n",
    "c_scores1=[]\n",
    "brier_scores1=[]\n",
    "\n",
    "\n",
    "# 模型保存路径\n",
    "models_save_path = \"./5_fold models_without_smote\"\n",
    "\n",
    "\n",
    "# 遍历每一折\n",
    "for fold_number in tqdm(range(1, 6), desc=\"Processing folds\"):\n",
    "    # 加载训练集和测试集\n",
    "    train_file_path = os.path.join(save_path0, f'train_fold_{fold_number}.pkl')\n",
    "    test_file_path = os.path.join(save_path0, f'test_fold_{fold_number}.pkl')\n",
    "    with open(train_file_path, 'rb') as f:\n",
    "        train_data = pickle.load(f)\n",
    "\n",
    "    with open(test_file_path, 'rb') as f:\n",
    "        test_data = pickle.load(f)     \n",
    "\n",
    "    # 提取特征和目标变量\n",
    "    X_train = train_data[FS1]\n",
    "    y_train_event = train_data['event'].astype(bool)\n",
    "    y_train_time = train_data['time']\n",
    "\n",
    "    X_test = test_data[FS1]\n",
    "    y_test_event = test_data['event'].astype(bool)\n",
    "    y_test_time = test_data['time']\n",
    "\n",
    "    y_train = np.array(list(zip(y_train_event, y_train_time)),\n",
    "                       dtype=[('event', bool), ('time', float)])\n",
    "    y_test = np.array(list(zip(y_test_event, y_test_time)),\n",
    "                      dtype=[('event', bool), ('time', float)])\n",
    "\n",
    "    # 合并数据（供 CoxPHFitter 使用）\n",
    "    train_combined = pd.concat([train_data[['time', 'event']], X_train], axis=1)\n",
    "    test_combined = pd.concat([test_data[['time', 'event']], X_test], axis=1)  \n",
    "\n",
    "\n",
    "    # 转换为 episodic format（供 CoxTV 使用）\n",
    "    # 检查并清理数据\n",
    "    required_columns = ['time', 'event']\n",
    "    train_data = check_and_clean_data(train_data, required_columns)\n",
    "    test_data = check_and_clean_data(test_data, required_columns)\n",
    "\n",
    "    # 检查并添加唯一的 ID 列\n",
    "    if 'id' not in train_data.columns:\n",
    "        train_data['id'] = np.arange(len(train_data))\n",
    "    if 'id' not in test_data.columns:\n",
    "        test_data['id'] = np.arange(len(test_data))    \n",
    "    \n",
    "    episodic_train = to_episodic_format(\n",
    "        pd.concat([train_data[['time', 'event', 'id']], X_train], axis=1),\n",
    "        duration_col=\"time\", event_col=\"event\", id_col=\"id\"\n",
    "    )\n",
    "    episodic_test = to_episodic_format(\n",
    "        pd.concat([test_data[['time', 'event', 'id']], X_test], axis=1),\n",
    "        duration_col=\"time\", event_col=\"event\", id_col=\"id\"\n",
    "    )\n",
    "\n",
    " \n",
    "\n",
    "    # 训练模型\n",
    "    CoxPH.fit(train_combined, duration_col='time', event_col='event')   \n",
    "    CoxTV.fit(episodic_train, id_col='id', start_col='start', stop_col='stop', event_col='event')\n",
    "    ST.fit(X_train, y_train)\n",
    "    RSF.fit(X_train, y_train)\n",
    "    GBSA.fit(X_train, y_train)\n",
    "    \n",
    " \n",
    "\n",
    "    # 保存模型\n",
    "    dataset_name = 'FS1'\n",
    "    models = [\n",
    "        ('CoxPH', CoxPH),\n",
    "        ('CoxTV',CoxTV),\n",
    "        ('ST', ST),\n",
    "        ('RSF', RSF),\n",
    "        ('GBSA', GBSA)\n",
    "    ]\n",
    "\n",
    "    for model_name, model in models:\n",
    "        model_filename = f\"{dataset_name}_{model_name}_fold{fold_number}.pkl\"\n",
    "        model_filepath = os.path.join(models_save_path, model_filename)\n",
    "        with open(model_filepath, 'wb') as f:\n",
    "            pickle.dump(model, f)\n",
    " \n",
    "\n",
    "\n",
    "    #预测CoxPH模型的风险分数\n",
    "    risk_scores_cph = CoxPH.predict_partial_hazard(test_combined)\n",
    "    \n",
    "    #预测CoxTV模型的风险分数\n",
    "    risk_scores_coxtv_raw = CoxTV.predict_partial_hazard(episodic_test)\n",
    "    episodic_test['partial_hazard'] = risk_scores_coxtv_raw\n",
    "    aggregated_risk_scores_coxtv = episodic_test.groupby('id')['partial_hazard'].mean()\n",
    "    risk_scores_coxtv = aggregated_risk_scores_coxtv.values\n",
    "    \n",
    "    # 预测其他模型的风险分数\n",
    "    y_pred_ST = ST.predict(X_test)\n",
    "    y_pred_RSF = RSF.predict(X_test)\n",
    "    y_pred_GBSA = GBSA.predict(X_test)  \n",
    "\n",
    "    # 计算 IPCW CI\n",
    "    cindex_CoxPH = concordance_index_ipcw(y_train, y_test, risk_scores_cph, tau=59.9)[0]\n",
    "    cindex_CoxTV = concordance_index_ipcw(y_train, y_test, risk_scores_coxtv, tau=59.9)[0]    \n",
    "    cindex_ST = concordance_index_ipcw(y_train, y_test, y_pred_ST, tau=59.9)[0]\n",
    "    cindex_RSF = concordance_index_ipcw(y_train, y_test, y_pred_RSF, tau=59.9)[0]\n",
    "    cindex_GBSA = concordance_index_ipcw(y_train, y_test, y_pred_GBSA, tau=59.9)[0]\n",
    "\n",
    "    \n",
    "    # 记录 IPCW C-Index 评分\n",
    "    c_scores1.append({'Model': 'CoxPH', 'Fold': fold_number, 'IPCW C-Index': cindex_CoxPH})   \n",
    "    c_scores1.append({'Model': 'CoxTV', 'Fold': fold_number, 'IPCW C-Index': cindex_CoxTV})    \n",
    "    c_scores1.append({'Model': 'ST', 'Fold': fold_number, 'IPCW C-Index': cindex_ST})\n",
    "    c_scores1.append({'Model': 'RSF', 'Fold': fold_number, 'IPCW C-Index': cindex_RSF})\n",
    "    c_scores1.append({'Model': 'GBSA', 'Fold': fold_number, 'IPCW C-Index': cindex_GBSA})\n",
    "\n",
    "    \n",
    "    \n",
    "    # 计算 IBS\n",
    "    ##确定times\n",
    "    times = np.linspace(10 + 1e-6, 60 - 1e-6, 6)\n",
    "    \n",
    "    ##各模型的生存函数\n",
    "    surv_funcs_CoxPH = CoxPH.predict_survival_function(test_combined, times=times) \n",
    "    #CoxTV无法直接计算生存函数，此处是通过自定义函数间接计算的\n",
    "    surv_funcs_ST = ST.predict_survival_function(X_test)\n",
    "    surv_funcs_RSF = RSF.predict_survival_function(X_test)\n",
    "    surv_funcs_GBSA = GBSA.predict_survival_function(X_test)\n",
    "    \n",
    "    # 将生存函数转换为在特定时间点的概率估计 \n",
    "    preds_CoxPH = surv_funcs_CoxPH.values.T\n",
    "    preds_CoxTV = calculate_survival_probabilities_coxtv(risk_scores_coxtv, CoxTV.baseline_cumulative_hazard_.values.flatten(), times)    \n",
    "    preds_ST= np.array([fn(times) for fn in surv_funcs_ST])\n",
    "    preds_RSF= np.array([fn(times) for fn in surv_funcs_RSF])    \n",
    "    preds_GBSA= np.array([fn(times) for fn in surv_funcs_GBSA])     \n",
    "    \n",
    "    #计算IBS分数\n",
    "    ibs_CoxPH = integrated_brier_score(y_train, y_test, preds_CoxPH, times)\n",
    "    ibs_CoxTV = integrated_brier_score(y_train, y_test, preds_CoxTV, times)    \n",
    "    ibs_ST = integrated_brier_score(y_train, y_test, preds_ST, times)\n",
    "    ibs_RSF = integrated_brier_score(y_train, y_test, preds_RSF, times)\n",
    "    ibs_GBSA = integrated_brier_score(y_train, y_test, preds_GBSA, times)\n",
    "\n",
    "    # 记录 IBS 分数\n",
    "    brier_scores1.append({'Model': 'CoxPH', 'Fold': fold_number, 'IBS': ibs_CoxPH})\n",
    "    brier_scores1.append({'Model': 'CoxTV', 'Fold': fold_number, 'IBS': ibs_CoxTV})    \n",
    "    brier_scores1.append({'Model': 'ST', 'Fold': fold_number, 'IBS': ibs_ST})\n",
    "    brier_scores1.append({'Model': 'RSF', 'Fold': fold_number, 'IBS': ibs_RSF})\n",
    "    brier_scores1.append({'Model': 'GBSA', 'Fold': fold_number, 'IBS': ibs_GBSA})\n",
    "\n",
    "    \n",
    "    \n",
    "# 计算平均 CI 评分\n",
    "average_cindex1 = pd.DataFrame(c_scores1).groupby('Model')['IPCW C-Index'].mean().reset_index()\n",
    "\n",
    "# 计算平均 Brier 分数\n",
    "average_brier_scores1 = pd.DataFrame(brier_scores1).groupby('Model')['IBS'].mean().reset_index()\n",
    "\n",
    "# 打印结果\n",
    "print(\"Average C-Index:\")\n",
    "print(average_cindex1)\n",
    "print(\"Average IBS:\")\n",
    "print(average_brier_scores1)\n",
    "\n",
    "end = time.time()\n",
    "print(f\"Total time taken: {end - start} seconds\")"
   ]
  },
  {
   "cell_type": "markdown",
   "id": "5c1f8d2d",
   "metadata": {},
   "source": [
    "## 可视化结果"
   ]
  },
  {
   "cell_type": "code",
   "execution_count": 14,
   "id": "ae426652",
   "metadata": {},
   "outputs": [
    {
     "data": {
      "image/png": "[encoded data removed]",
      "text/plain": [
       "<Figure size 1600x600 with 2 Axes>"
      ]
     },
     "metadata": {},
     "output_type": "display_data"
    }
   ],
   "source": [
    "import matplotlib.pyplot as plt\n",
    "\n",
    "# 对平均C-Index进行降序排序\n",
    "average_cindex_sorted = average_cindex1.sort_values('IPCW C-Index', ascending=False)\n",
    "\n",
    "# 对平均Brier分数进行升序排序\n",
    "average_brier_scores_sorted = average_brier_scores1.sort_values('IBS', ascending=True)\n",
    "\n",
    "# 创建一个新的figure，尺寸更加平衡\n",
    "plt.figure(figsize=(16, 6))  # 调整为更加合适的尺寸\n",
    "\n",
    "# 绘制平均C-Index柱状图\n",
    "plt.subplot(1, 2, 1)  # 1行2列，当前是第1个图\n",
    "cindex_bars = plt.bar(average_cindex_sorted['Model'], average_cindex_sorted['IPCW C-Index'], color='skyblue')\n",
    "plt.title('IPCW C-Index Comparison by Models')\n",
    "plt.xlabel('Model')\n",
    "plt.ylabel('Average IPCW C-Index of 5 folds')\n",
    "plt.ylim(0, 1)  # C-Index 的范围通常是 0 到 1\n",
    "# 添加数据标签\n",
    "for bar in cindex_bars:\n",
    "    yval = bar.get_height()\n",
    "    plt.text(bar.get_x() + bar.get_width()/2, yval + 0.01, round(yval, 3), ha='center', va='bottom')\n",
    "\n",
    "# 绘制平均Brier分数柱状图\n",
    "plt.subplot(1, 2, 2)  # 1行2列，当前是第2个图\n",
    "brier_bars = plt.bar(average_brier_scores_sorted['Model'], average_brier_scores_sorted['IBS'], color='lightgreen')\n",
    "plt.title('Integrated Brier Scores Comparison by Models')\n",
    "plt.xlabel('Model')\n",
    "plt.ylabel('Average Brier Score of 5 folds')\n",
    "plt.ylim(0, 1)  # Brier分数的范围通常是 0 到 1\n",
    "# 添加数据标签\n",
    "for bar in brier_bars:\n",
    "    yval = bar.get_height()\n",
    "    plt.text(bar.get_x() + bar.get_width()/2, yval + 0.01, round(yval, 3), ha='center', va='bottom')\n",
    "\n",
    "# 显示整个figure的内容\n",
    "plt.tight_layout()\n",
    "plt.show()"
   ]
  },
  {
   "cell_type": "markdown",
   "id": "174615dc",
   "metadata": {},
   "source": [
    "# 模型评价"
   ]
  },
  {
   "cell_type": "code",
   "execution_count": 15,
   "id": "c5dcae3f",
   "metadata": {},
   "outputs": [],
   "source": [
    "#C-index和AUC属于区分度，IBS属于校准度"
   ]
  },
  {
   "cell_type": "markdown",
   "id": "fe9b8e18",
   "metadata": {},
   "source": [
    "## Time-dependent Area under the ROC"
   ]
  },
  {
   "cell_type": "markdown",
   "id": "7840e2e4",
   "metadata": {},
   "source": [
    "###  'BaseFeatureSet'"
   ]
  },
  {
   "cell_type": "code",
   "execution_count": 16,
   "id": "68bcef47",
   "metadata": {},
   "outputs": [
    {
     "data": {
      "image/png": "[encoded data removed]",
      "text/plain": [
       "<Figure size 800x700 with 1 Axes>"
      ]
     },
     "metadata": {},
     "output_type": "display_data"
    }
   ],
   "source": [
    "import os\n",
    "import numpy as np\n",
    "import matplotlib.pyplot as plt\n",
    "import pickle\n",
    "from sksurv.metrics import cumulative_dynamic_auc\n",
    "\n",
    "# 特征子集\n",
    "dataset_name = 'FS1'\n",
    "# 模型名称列表\n",
    "model_names = ['CoxPH','CoxTV', 'ST', 'RSF', 'GBSA']\n",
    "\n",
    "# 确定times\n",
    "times = np.linspace(10 + 1e-6, 60 - 1e-6, 6)\n",
    "\n",
    "# 初始化存储每个模型的AUCs的字典\n",
    "aucs = {model_name: [] for model_name in model_names}\n",
    "\n",
    "# 初始化用于 IPCW 检查的存储\n",
    "ipcw_support_problems = []\n",
    "\n",
    "# 遍历每一折\n",
    "for fold_number in range(1, 6):\n",
    "    # 加载测试集\n",
    "    test_file_path = os.path.join(save_path0, f'test_fold_{fold_number}.pkl')\n",
    "    with open(test_file_path, 'rb') as f:\n",
    "        test_data = pickle.load(f)\n",
    "\n",
    "    # 提取特征和目标变量\n",
    "    X_test = test_data[FS1]\n",
    "    y_test_event = test_data['event'].astype(bool)\n",
    "    y_test_time = test_data['time']\n",
    "\n",
    "    # 将目标变量转换为结构化数组\n",
    "    y_test = np.array(list(zip(y_test_event, y_test_time)),\n",
    "                      dtype=[('event', bool), ('time', float)])\n",
    "\n",
    "    # 加载训练集的生存信息（计算 AUC 需要训练集的信息）\n",
    "    train_file_path = os.path.join(save_path0, f'train_fold_{fold_number}.pkl')\n",
    "    with open(train_file_path, 'rb') as f:\n",
    "        train_data = pickle.load(f)\n",
    "\n",
    "    y_train_event = train_data['event'].astype(bool)\n",
    "    y_train_time = train_data['time']\n",
    "\n",
    "    y_train = np.array(list(zip(y_train_event, y_train_time)),\n",
    "                       dtype=[('event', bool), ('time', float)])\n",
    "    \n",
    "    \n",
    "    # 合并数据（供 CoxPHFitter 使用）\n",
    "    test_combined = pd.concat([test_data[['time', 'event']], X_test], axis=1)  \n",
    "\n",
    "\n",
    "    # 转换为 episodic format（供 CoxTV 使用）\n",
    "    # 检查并清理数据\n",
    "    required_columns = ['time', 'event']\n",
    "    test_data = check_and_clean_data(test_data, required_columns)\n",
    "\n",
    "    # 检查并添加唯一的 ID 列\n",
    "    if 'id' not in test_data.columns:\n",
    "        test_data['id'] = np.arange(len(test_data))    \n",
    "    \n",
    "    episodic_test = to_episodic_format(\n",
    "        pd.concat([test_data[['time', 'event', 'id']], X_test], axis=1),\n",
    "        duration_col=\"time\", event_col=\"event\", id_col=\"id\"\n",
    "    )\n",
    "\n",
    "    # 遍历每个模型\n",
    "    for model_name in model_names:\n",
    "        # 加载模型\n",
    "        model_filename = f\"{dataset_name}_{model_name}_fold{fold_number}.pkl\"\n",
    "        model_filepath = os.path.join(models_save_path, model_filename)\n",
    "        \n",
    "        with open(model_filepath, 'rb') as f:\n",
    "            model = pickle.load(f) \n",
    "                       \n",
    "            \n",
    "        \n",
    "        # 获取测试集的风险评分\n",
    "        if model_name == 'CoxPH':\n",
    "            risk_scores = model.predict_partial_hazard(test_combined)\n",
    "        elif model_name=='CoxTV':\n",
    "            risk_scores_coxtv_raw = model.predict_partial_hazard(episodic_test)\n",
    "            episodic_test['partial_hazard'] = risk_scores_coxtv_raw\n",
    "            aggregated_risk_scores_coxtv = episodic_test.groupby('id')['partial_hazard'].mean()\n",
    "            risk_scores= aggregated_risk_scores_coxtv.values   \n",
    "        else:\n",
    "            risk_scores = model.predict(X_test)\n",
    "        \n",
    "        # 计算 IPCW 权重，如果审查生存函数达到零，则存储\n",
    "        try:\n",
    "            auc, mean_auc = cumulative_dynamic_auc(y_train, y_test, risk_scores, times)\n",
    "            aucs[model_name].append(auc)\n",
    "        except ValueError as e:\n",
    "            ipcw_support_problems.append((fold_number, model_name, str(e)))          \n",
    "\n",
    "\n",
    "# 计算每个模型的平均AUC五折的每个时间点上的平均值\n",
    "mean_aucs1 = {model_name: np.mean(aucs[model_name], axis=0) for model_name in model_names}\n",
    "\n",
    "overall_mean_aucs1 = pd.DataFrame({\n",
    "    'Model': model_name,\n",
    "    'Average_AUC': np.mean(mean_auc)\n",
    "} for model_name, mean_auc in mean_aucs1.items())\n",
    "\n",
    "# 绘制Time-dependent AUC曲线并添加数据标签\n",
    "plt.figure(figsize=(8, 7))\n",
    "for model_name, mean_auc in mean_aucs1.items():\n",
    "    plt.plot(times, mean_auc, label=f'{model_name} (Mean AUC = {np.mean(mean_auc):.3f})')\n",
    "#     # 添加数据标签\n",
    "#     for i, auc_value in enumerate(mean_auc):\n",
    "#         plt.text(times[i], auc_value, f'{auc_value:.3f}', fontsize=9, ha='center', va='bottom')\n",
    "\n",
    "plt.xlabel('Time(months)')\n",
    "plt.ylabel('Cumulative/Dynamic AUC')\n",
    "plt.title(\"Mean Dynamic AUC Over Time on 'BaseFeatureSet'\")\n",
    "plt.legend(loc=\"upper right\")  # 设置图例位置为右上角\n",
    "plt.show()"
   ]
  },
  {
   "cell_type": "code",
   "execution_count": 17,
   "id": "94d97d60",
   "metadata": {},
   "outputs": [
    {
     "data": {
      "text/html": [
       "<div>\n",
       "<style scoped>\n",
       "    .dataframe tbody tr th:only-of-type {\n",
       "        vertical-align: middle;\n",
       "    }\n",
       "\n",
       "    .dataframe tbody tr th {\n",
       "        vertical-align: top;\n",
       "    }\n",
       "\n",
       "    .dataframe thead th {\n",
       "        text-align: right;\n",
       "    }\n",
       "</style>\n",
       "<table border=\"1\" class=\"dataframe\">\n",
       "  <thead>\n",
       "    <tr style=\"text-align: right;\">\n",
       "      <th></th>\n",
       "      <th>Model</th>\n",
       "      <th>Average_AUC</th>\n",
       "    </tr>\n",
       "  </thead>\n",
       "  <tbody>\n",
       "    <tr>\n",
       "      <th>0</th>\n",
       "      <td>CoxPH</td>\n",
       "      <td>0.829855</td>\n",
       "    </tr>\n",
       "    <tr>\n",
       "      <th>1</th>\n",
       "      <td>CoxTV</td>\n",
       "      <td>0.829855</td>\n",
       "    </tr>\n",
       "    <tr>\n",
       "      <th>2</th>\n",
       "      <td>ST</td>\n",
       "      <td>0.870488</td>\n",
       "    </tr>\n",
       "    <tr>\n",
       "      <th>3</th>\n",
       "      <td>RSF</td>\n",
       "      <td>0.876336</td>\n",
       "    </tr>\n",
       "    <tr>\n",
       "      <th>4</th>\n",
       "      <td>GBSA</td>\n",
       "      <td>0.875110</td>\n",
       "    </tr>\n",
       "  </tbody>\n",
       "</table>\n",
       "</div>"
      ],
      "text/plain": [
       "   Model  Average_AUC\n",
       "0  CoxPH     0.829855\n",
       "1  CoxTV     0.829855\n",
       "2     ST     0.870488\n",
       "3    RSF     0.876336\n",
       "4   GBSA     0.875110"
      ]
     },
     "execution_count": 17,
     "metadata": {},
     "output_type": "execute_result"
    }
   ],
   "source": [
    "overall_mean_aucs1"
   ]
  },
  {
   "cell_type": "markdown",
   "id": "a40231a8",
   "metadata": {},
   "source": [
    "## 合理性分析 KM生存曲线"
   ]
  },
  {
   "cell_type": "code",
   "execution_count": 18,
   "id": "f07871ec",
   "metadata": {},
   "outputs": [
    {
     "data": {
      "image/png": "[encoded data removed]",
      "text/plain": [
       "<Figure size 640x480 with 1 Axes>"
      ]
     },
     "metadata": {},
     "output_type": "display_data"
    }
   ],
   "source": [
    "import os\n",
    "import pickle\n",
    "import numpy as np\n",
    "import matplotlib.pyplot as plt\n",
    "from sksurv.ensemble import GradientBoostingSurvivalAnalysis\n",
    "from sksurv.util import Surv\n",
    "\n",
    "\n",
    "dataset_name = 'FS1'\n",
    "model_name = 'GBSA'\n",
    "\n",
    "# 用于存储每组的生存函数预测\n",
    "surv_funcs_groups = {0: [], 1: [], 2: []}\n",
    "time_points = None  # 存储时间点\n",
    "\n",
    "# 初始化一个空的DataFrame来收集数据\n",
    "survival_data = pd.DataFrame()\n",
    "\n",
    "for fold_number in range(1, 6):\n",
    "    # 加载测试集\n",
    "    test_file_path = os.path.join(save_path0, f'test_fold_{fold_number}.pkl')\n",
    "    with open(test_file_path, 'rb') as f:\n",
    "        test_data = pickle.load(f)\n",
    "        \n",
    "    X_test = test_data[FS1]\n",
    "    y_test_event = test_data['event'].astype(bool)\n",
    "    y_test_time = test_data['time']\n",
    "    y_test = Surv.from_arrays(event=y_test_event, time=y_test_time)\n",
    "\n",
    "    # 加载模型\n",
    "    model_filename = f\"{dataset_name}_{model_name}_fold{fold_number}.pkl\"\n",
    "    model_filepath = os.path.join(models_save_path, model_filename)\n",
    "    with open(model_filepath, 'rb') as f:\n",
    "        loaded_model = pickle.load(f)\n",
    "\n",
    "    # 预测风险分数\n",
    "    risk_scores = loaded_model.predict(X_test)\n",
    "\n",
    "    # 确定分组阈值\n",
    "    threshold_low = np.percentile(risk_scores, 33)\n",
    "    threshold_high = np.percentile(risk_scores, 66)\n",
    "\n",
    "    # 根据阈值将样本分组\n",
    "    groups = np.digitize(risk_scores, [threshold_low, threshold_high])\n",
    "\n",
    "    # 预测生存函数\n",
    "    pred_surv_funcs = loaded_model.predict_survival_function(X_test)\n",
    "    if fold_number == 1:\n",
    "        time_points = pred_surv_funcs[0].x  # 保存时间点数据\n",
    "\n",
    "    # 存储每组的生存函数预测\n",
    "    for i in range(3):\n",
    "        surv_funcs_groups[i].extend([func.y for func, g in zip(pred_surv_funcs, groups) if g == i])\n",
    "        \n",
    "        \n",
    "    # 将风险分数、生存时间、事件发生与风险组合并为一个DataFrame\n",
    "    fold_df = pd.DataFrame({\n",
    "        'time': y_test_time,\n",
    "        'event': y_test_event,\n",
    "        'group': groups\n",
    "    })\n",
    "\n",
    "    # 将当前折叠的数据添加到总的DataFrame中\n",
    "    survival_data = pd.concat([survival_data, fold_df], ignore_index=True)\n",
    "\n",
    "# 计算每组的平均生存函数\n",
    "average_surv_funcs = {}\n",
    "for i in range(3):\n",
    "    average_surv_funcs[i] = np.mean(surv_funcs_groups[i], axis=0)\n",
    "\n",
    "# 绘制每组的平均生存曲线\n",
    "plt.figure()\n",
    "risk_group_labels = [\"Low Risk\", \"Medium Risk\", \"High Risk\"]\n",
    "for i in range(3):\n",
    "    plt.step(time_points, average_surv_funcs[i], where=\"post\", label=risk_group_labels[i])\n",
    "\n",
    "plt.title(\"Predicted Survival Functions by Risk Group\")\n",
    "plt.ylabel(\"Estimated probability of survival $\\hat{S}(t)$\")\n",
    "plt.xlabel(\"Time in months\")\n",
    "plt.legend()\n",
    "plt.grid(True)\n",
    "plt.show()"
   ]
  },
  {
   "cell_type": "code",
   "execution_count": 19,
   "id": "4ac2ebe5",
   "metadata": {},
   "outputs": [
    {
     "name": "stdout",
     "output_type": "stream",
     "text": [
      "   test_statistic      p  -log2(p)\n",
      "0       2726.6821 0.0000       inf\n"
     ]
    }
   ],
   "source": [
    "from lifelines.statistics import multivariate_logrank_test\n",
    "\n",
    "# 进行Log-rank检验\n",
    "results = multivariate_logrank_test(survival_data['time'], survival_data['group'], survival_data['event'], alpha=0.95)\n",
    "\n",
    "# 设置Pandas显示格式，确保至少显示三位小数\n",
    "pd.set_option('display.float_format', '{:.4f}'.format)\n",
    "\n",
    "# 输出检验结果\n",
    "print(results.summary)"
   ]
  }
 ],
 "metadata": {
  "kernelspec": {
   "display_name": "surv",
   "language": "python",
   "name": "surv-env"
  },
  "language_info": {
   "codemirror_mode": {
    "name": "ipython",
    "version": 3
   },
   "file_extension": ".py",
   "mimetype": "text/x-python",
   "name": "python",
   "nbconvert_exporter": "python",
   "pygments_lexer": "ipython3",
   "version": "3.8.18"
  },
  "toc": {
   "base_numbering": 1,
   "nav_menu": {},
   "number_sections": true,
   "sideBar": true,
   "skip_h1_title": false,
   "title_cell": "Table of Contents",
   "title_sidebar": "Contents",
   "toc_cell": true,
   "toc_position": {
    "height": "515.2px",
    "left": "34px",
    "top": "110.525px",
    "width": "317.8px"
   },
   "toc_section_display": true,
   "toc_window_display": true
  },
  "varInspector": {
   "cols": {
    "lenName": 16,
    "lenType": 16,
    "lenVar": 40
   },
   "kernels_config": {
    "python": {
     "delete_cmd_postfix": "",
     "delete_cmd_prefix": "del ",
     "library": "var_list.py",
     "varRefreshCmd": "print(var_dic_list())"
    },
    "r": {
     "delete_cmd_postfix": ") ",
     "delete_cmd_prefix": "rm(",
     "library": "var_list.r",
     "varRefreshCmd": "cat(var_dic_list()) "
    }
   },
   "types_to_exclude": [
    "module",
    "function",
    "builtin_function_or_method",
    "instance",
    "_Feature"
   ],
   "window_display": false
  }
 },
 "nbformat": 4,
 "nbformat_minor": 5
}
